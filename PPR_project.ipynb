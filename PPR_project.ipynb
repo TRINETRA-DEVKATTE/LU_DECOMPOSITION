{
  "nbformat": 4,
  "nbformat_minor": 0,
  "metadata": {
    "colab": {
      "name": "PPR_project.ipynb",
      "provenance": [],
      "collapsed_sections": []
    },
    "kernelspec": {
      "name": "python3",
      "display_name": "Python 3"
    },
    "language_info": {
      "name": "python"
    }
  },
  "cells": [
    {
      "cell_type": "code",
      "execution_count": 13,
      "metadata": {
        "colab": {
          "base_uri": "https://localhost:8080/"
        },
        "id": "sdf4UmNiRMqx",
        "outputId": "8a0c6e3c-9371-4a59-99b0-d66afc1f26b2"
      },
      "outputs": [
        {
          "output_type": "stream",
          "name": "stdout",
          "text": [
            "['258.09', '146.624', '114.453', '115.889']\n"
          ]
        }
      ],
      "source": [
        "#x = [1000,2000,3000,4000,5000,6000]\n",
        "x = [2,4,6,8]\n",
        "y = []\n",
        "th1 = []\n",
        "th2 = []\n",
        "th3 = []\n",
        "th4 = []\n",
        "th5 = []\n",
        "th6 = []\n",
        "import csv\n",
        "with open(\"data.txt\", \"r\") as file:\n",
        "\trow = file.readlines()\n",
        " \n",
        "for c in row:\n",
        "  c = c.strip()\n",
        "  split_lines = c.split(\" \")\n",
        "  y.append(split_lines[2])\n",
        "  if split_lines[1] == '1000':\n",
        "    th1.append(split_lines[2])\n",
        "  elif split_lines[1] == '2000':\n",
        "    th2.append(split_lines[2])\n",
        "  elif split_lines[1] == '3000':\n",
        "    th3.append(split_lines[2])\n",
        "  elif split_lines[1] == '4000':\n",
        "    th4.append(split_lines[2])\n",
        "  elif split_lines[1] == '5000':\n",
        "    th5.append(split_lines[2])\n",
        "  elif split_lines[1] == '6000':\n",
        "    th6.append(split_lines[2])\n",
        "\n",
        "print(th6);"
      ]
    },
    {
      "cell_type": "code",
      "source": [
        "import matplotlib.pyplot as plt\n",
        "import numpy as np\n",
        "x = np.asarray(x,dtype = float)\n",
        "th1 = np.asarray(th1,dtype = float)\n",
        "th2 = np.asarray(th2,dtype = float)\n",
        "th3 = np.asarray(th3,dtype = float)\n",
        "th4 = np.asarray(th4,dtype = float)\n",
        "th5 = np.asarray(th5,dtype = float)\n",
        "th6 = np.asarray(th6,dtype = float)\n",
        "np.multiply(th1,100)\n",
        "plt.title(\"N = 6000\")\n",
        "plt.xlabel(\"No of Threads\")\n",
        "plt.ylabel(\"Execution time(sec) * 100\")\n",
        "plt.plot(x, th6, color =\"red\")\n",
        "plt.show()"
      ],
      "metadata": {
        "colab": {
          "base_uri": "https://localhost:8080/",
          "height": 295
        },
        "id": "0h2iCrRmYnqS",
        "outputId": "8f559be4-2b23-4c10-e1c6-b89216071cd8"
      },
      "execution_count": 12,
      "outputs": [
        {
          "output_type": "display_data",
          "data": {
            "image/png": "[encoded data removed]",
            "text/plain": [
              "<Figure size 432x288 with 1 Axes>"
            ]
          },
          "metadata": {
            "needs_background": "light"
          }
        }
      ]
    }
  ]
}